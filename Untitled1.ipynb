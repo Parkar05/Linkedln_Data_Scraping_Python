{
 "cells": [
  {
   "cell_type": "markdown",
   "id": "76e799ee",
   "metadata": {},
   "source": [
    "## Importing Libraries "
   ]
  },
  {
   "cell_type": "code",
   "execution_count": 1,
   "id": "04ccc508",
   "metadata": {},
   "outputs": [],
   "source": [
    "import pandas as pd \n",
    "from parsel import selector\n",
    "from time import sleep\n",
    "from selenium import webdriver\n",
    "from selenium.webdriver.common.by import By \n",
    "from selenium.webdriver.support.ui import WebDriverWait\n",
    "from selenium.webdriver.support import expected_conditions as EC\n",
    "from selenium.webdriver.chrome.options import Options\n",
    "from selenium.webdriver.common.keys import Keys\n",
    "from selenium.webdriver.chrome.service import Service as ChromeService\n",
    "import time"
   ]
  },
  {
   "cell_type": "markdown",
   "id": "f5fddbb0",
   "metadata": {},
   "source": [
    "## Defining The chrome driver path and creating instance"
   ]
  },
  {
   "cell_type": "code",
   "execution_count": 2,
   "id": "07758574",
   "metadata": {},
   "outputs": [],
   "source": [
    "chrome_driver_path = r\"C:\\Users\\MD\\.wdm\\drivers\\chromedriver\\win64\\120.0.6099.109\\chromedriver-win32\\chromedriver.exe\"\n",
    "\n",
    "## Create ChromeOptions instance\n",
    "chrome_options = Options()\n",
    "\n",
    "\n",
    "# Instantiate the WebDriver with the ChromeOptions and path\n",
    "service = ChromeService(executable_path=chrome_driver_path)\n",
    "driver = webdriver.Chrome(service=service, options=chrome_options)"
   ]
  },
  {
   "cell_type": "markdown",
   "id": "e42817fb",
   "metadata": {},
   "source": [
    "## Now the path and chrome driver is set. Time to login into linkedln "
   ]
  },
  {
   "cell_type": "code",
   "execution_count": 3,
   "id": "fcdd4ab6",
   "metadata": {},
   "outputs": [],
   "source": [
    "# driver.get is used to navigate to a page which is given in url addres \n",
    "driver.get(\"https://linkedin.com/uas/login\")\n",
    "time.sleep(5)\n"
   ]
  },
  {
   "cell_type": "code",
   "execution_count": 4,
   "id": "844fc822",
   "metadata": {},
   "outputs": [
    {
     "name": "stdout",
     "output_type": "stream",
     "text": [
      "Chat box element not found within 20 seconds. Continuing without closing.\n"
     ]
    }
   ],
   "source": [
    "## Now we are on linkedln\n",
    "#Entering email by finding the html tag \n",
    "username = driver.find_element(By.ID, \"username\")\n",
    "username.send_keys(\"mohammedaliparkar123@gmail.com\")  \n",
    "\n",
    "sleep(5)\n",
    "\n",
    "#Entering password by finding the html tag \n",
    "password = driver.find_element(By.ID, \"password\")\n",
    "password.send_keys(\"Mohammedali@123\")\n",
    "\n",
    "sleep(5)\n",
    "\n",
    "## Clicking on the click(submit) button\n",
    "\n",
    "driver.find_element(By.XPATH, \"//button[@type='submit']\").click()\n",
    "sleep(5)\n",
    "\n",
    "##############################################################################################################################\n",
    "# Trying to close the chat box \n",
    "from selenium.common.exceptions import TimeoutException\n",
    "\n",
    "try:\n",
    "    chat_box_element = WebDriverWait(driver, 20).until(EC.presence_of_element_located((By.XPATH, \"//div[@class='chat-box']\")))\n",
    "    close_button = chat_box_element.find_element(By.XPATH, \"//button[@class='close-button']\")\n",
    "    close_button.click()\n",
    "except TimeoutException:\n",
    "    print(\"Chat box element not found within 20 seconds. Continuing without closing.\")"
   ]
  },
  {
   "cell_type": "markdown",
   "id": "9bbe99ee",
   "metadata": {},
   "source": [
    "## For a bit human touch scrolling the mouse and randomly moving the cursor"
   ]
  },
  {
   "cell_type": "code",
   "execution_count": 5,
   "id": "8b5db0d3",
   "metadata": {},
   "outputs": [],
   "source": [
    "import pyautogui as pag\n",
    "import random\n",
    "import time\n",
    "\n",
    "# duration in seconds\n",
    "duration = 5\n",
    "\n",
    "# Get the start time\n",
    "start_time = time.time()\n",
    "\n",
    "# Main loop\n",
    "while time.time() - start_time < duration:\n",
    "    x = random.randint(600, 700)\n",
    "    y = random.randint(200, 600)\n",
    "    \n",
    "    # Move the mouse\n",
    "    pag.moveTo(x, y, duration=0.5)\n",
    "    \n",
    "    # Scroll randomly \n",
    "    scroll_amount = random.randint(-1000, 1000)\n",
    "    pag.scroll(scroll_amount)"
   ]
  },
  {
   "cell_type": "markdown",
   "id": "dfd53321",
   "metadata": {},
   "source": [
    "### Visiting the Given URL "
   ]
  },
  {
   "cell_type": "code",
   "execution_count": 6,
   "id": "ff043ac6",
   "metadata": {},
   "outputs": [],
   "source": [
    "### visiting the prospects url \n",
    "\n",
    "profile_url = \"https://www.linkedin.com/in/shivam-nalawade-7795a3138/\"\n",
    " \n",
    "driver.get(profile_url)"
   ]
  },
  {
   "cell_type": "markdown",
   "id": "07b9af7c",
   "metadata": {},
   "source": [
    "## Scrolling through the Given url "
   ]
  },
  {
   "cell_type": "code",
   "execution_count": 7,
   "id": "4d0aa910",
   "metadata": {},
   "outputs": [],
   "source": [
    "\n",
    "# Setting the initial scroll height\n",
    "scroll_height = 0\n",
    "\n",
    "# Defining the scroll increment\n",
    "scroll_increment = random.uniform(100, 10000)  # Vary the scroll increment\n",
    "\n",
    "# Scroll down gradually until the end\n",
    "while True:\n",
    "    # Scroll down by a certain amount\n",
    "    driver.execute_script(f\"window.scrollBy(0, {scroll_increment});\")\n",
    "\n",
    "    # Wait for a random duration to simulate a more human-like scroll\n",
    "    time.sleep(random.uniform(1, 2))  \n",
    "\n",
    "    # Calculate the new scroll height\n",
    "    new_scroll_height = driver.execute_script(\"return document.body.scrollHeight\")\n",
    "\n",
    "    # Break the loop if the scroll height hasn't changed for a few consecutive iterations\n",
    "    if new_scroll_height == scroll_height:\n",
    "        consecutive_no_change += 1\n",
    "        if consecutive_no_change >= 3:\n",
    "            break\n",
    "    else:\n",
    "        consecutive_no_change = 0\n",
    "\n",
    "    # Update the scroll height\n",
    "    scroll_height = new_scroll_height"
   ]
  },
  {
   "cell_type": "markdown",
   "id": "849d4463",
   "metadata": {},
   "source": [
    "## Scraping the name "
   ]
  },
  {
   "cell_type": "raw",
   "id": "d7486518",
   "metadata": {},
   "source": [
    "# This is the main class where the name tag we can find\n",
    "\n",
    "<section class=\"artdeco-card XdHzxPXudfsIQlpuimNSqmBpFIzXeilIsI\" data-member-id=\"562822797\">"
   ]
  },
  {
   "cell_type": "raw",
   "id": "23de4d86",
   "metadata": {},
   "source": [
    "# Next day attempt , main class where the name tag we can find \n",
    "\n",
    "<section class=\"artdeco-card KHGPhyqWaZgnQCBDpXvTmdnFECxxVeEs\" data-member-id=\"562822797\">\n"
   ]
  },
  {
   "cell_type": "raw",
   "id": "fd94f640",
   "metadata": {},
   "source": [
    "# This is the class where name tag is stored\n",
    "\n",
    "<h1 class=\"text-heading-xlarge inline t-24 v-align-middle break-words\">Shivam Nalawade</h1>"
   ]
  },
  {
   "cell_type": "code",
   "execution_count": 8,
   "id": "b28387a1",
   "metadata": {},
   "outputs": [
    {
     "ename": "NoSuchElementException",
     "evalue": "Message: no such element: Unable to locate element: {\"method\":\"css selector\",\"selector\":\"section.artdeco-card.KHGPhyqWaZgnQCBDpXvTmdnFECxxVeEs\"}\n  (Session info: chrome=120.0.6099.225); For documentation on this error, please visit: https://www.selenium.dev/documentation/webdriver/troubleshooting/errors#no-such-element-exception\nStacktrace:\n\tGetHandleVerifier [0x00A66EE3+174339]\n\t(No symbol) [0x00990A51]\n\t(No symbol) [0x006A6FF6]\n\t(No symbol) [0x006D9876]\n\t(No symbol) [0x006D9C2C]\n\t(No symbol) [0x0070BD42]\n\t(No symbol) [0x006F7054]\n\t(No symbol) [0x0070A104]\n\t(No symbol) [0x006F6DA6]\n\t(No symbol) [0x006D1034]\n\t(No symbol) [0x006D1F8D]\n\tGetHandleVerifier [0x00B04B1C+820540]\n\tsqlite3_dbdata_init [0x00BC53EE+653550]\n\tsqlite3_dbdata_init [0x00BC4E09+652041]\n\tsqlite3_dbdata_init [0x00BB97CC+605388]\n\tsqlite3_dbdata_init [0x00BC5D9B+656027]\n\t(No symbol) [0x0099FE6C]\n\t(No symbol) [0x009983B8]\n\t(No symbol) [0x009984DD]\n\t(No symbol) [0x00985818]\n\tBaseThreadInitThunk [0x76C17BA9+25]\n\tRtlInitializeExceptionChain [0x77A9BD2B+107]\n\tRtlClearBits [0x77A9BCAF+191]\n",
     "output_type": "error",
     "traceback": [
      "\u001b[1;31m---------------------------------------------------------------------------\u001b[0m",
      "\u001b[1;31mNoSuchElementException\u001b[0m                    Traceback (most recent call last)",
      "\u001b[1;32m~\\AppData\\Local\\Temp\\ipykernel_15912\\2941665465.py\u001b[0m in \u001b[0;36m<module>\u001b[1;34m\u001b[0m\n\u001b[0;32m      1\u001b[0m \u001b[1;31m# Locate the parent section element using class name\u001b[0m\u001b[1;33m\u001b[0m\u001b[1;33m\u001b[0m\u001b[0m\n\u001b[1;32m----> 2\u001b[1;33m \u001b[0mprofile_section\u001b[0m \u001b[1;33m=\u001b[0m \u001b[0mdriver\u001b[0m\u001b[1;33m.\u001b[0m\u001b[0mfind_element\u001b[0m\u001b[1;33m(\u001b[0m\u001b[0mBy\u001b[0m\u001b[1;33m.\u001b[0m\u001b[0mCSS_SELECTOR\u001b[0m\u001b[1;33m,\u001b[0m \u001b[1;34m\"section.artdeco-card.KHGPhyqWaZgnQCBDpXvTmdnFECxxVeEs\"\u001b[0m\u001b[1;33m)\u001b[0m\u001b[1;33m\u001b[0m\u001b[1;33m\u001b[0m\u001b[0m\n\u001b[0m\u001b[0;32m      3\u001b[0m \u001b[1;33m\u001b[0m\u001b[0m\n\u001b[0;32m      4\u001b[0m \u001b[1;31m# Within the section, locate the h1 element containing the name\u001b[0m\u001b[1;33m\u001b[0m\u001b[1;33m\u001b[0m\u001b[0m\n\u001b[0;32m      5\u001b[0m \u001b[0mname_element\u001b[0m \u001b[1;33m=\u001b[0m \u001b[0mprofile_section\u001b[0m\u001b[1;33m.\u001b[0m\u001b[0mfind_element\u001b[0m\u001b[1;33m(\u001b[0m\u001b[0mBy\u001b[0m\u001b[1;33m.\u001b[0m\u001b[0mCSS_SELECTOR\u001b[0m\u001b[1;33m,\u001b[0m \u001b[1;34m\"h1.text-heading-xlarge\"\u001b[0m\u001b[1;33m)\u001b[0m\u001b[1;33m\u001b[0m\u001b[1;33m\u001b[0m\u001b[0m\n",
      "\u001b[1;32m~\\anaconda3\\lib\\site-packages\\selenium\\webdriver\\remote\\webdriver.py\u001b[0m in \u001b[0;36mfind_element\u001b[1;34m(self, by, value)\u001b[0m\n\u001b[0;32m    740\u001b[0m             \u001b[0mvalue\u001b[0m \u001b[1;33m=\u001b[0m \u001b[1;34mf'[name=\"{value}\"]'\u001b[0m\u001b[1;33m\u001b[0m\u001b[1;33m\u001b[0m\u001b[0m\n\u001b[0;32m    741\u001b[0m \u001b[1;33m\u001b[0m\u001b[0m\n\u001b[1;32m--> 742\u001b[1;33m         \u001b[1;32mreturn\u001b[0m \u001b[0mself\u001b[0m\u001b[1;33m.\u001b[0m\u001b[0mexecute\u001b[0m\u001b[1;33m(\u001b[0m\u001b[0mCommand\u001b[0m\u001b[1;33m.\u001b[0m\u001b[0mFIND_ELEMENT\u001b[0m\u001b[1;33m,\u001b[0m \u001b[1;33m{\u001b[0m\u001b[1;34m\"using\"\u001b[0m\u001b[1;33m:\u001b[0m \u001b[0mby\u001b[0m\u001b[1;33m,\u001b[0m \u001b[1;34m\"value\"\u001b[0m\u001b[1;33m:\u001b[0m \u001b[0mvalue\u001b[0m\u001b[1;33m}\u001b[0m\u001b[1;33m)\u001b[0m\u001b[1;33m[\u001b[0m\u001b[1;34m\"value\"\u001b[0m\u001b[1;33m]\u001b[0m\u001b[1;33m\u001b[0m\u001b[1;33m\u001b[0m\u001b[0m\n\u001b[0m\u001b[0;32m    743\u001b[0m \u001b[1;33m\u001b[0m\u001b[0m\n\u001b[0;32m    744\u001b[0m     \u001b[1;32mdef\u001b[0m \u001b[0mfind_elements\u001b[0m\u001b[1;33m(\u001b[0m\u001b[0mself\u001b[0m\u001b[1;33m,\u001b[0m \u001b[0mby\u001b[0m\u001b[1;33m=\u001b[0m\u001b[0mBy\u001b[0m\u001b[1;33m.\u001b[0m\u001b[0mID\u001b[0m\u001b[1;33m,\u001b[0m \u001b[0mvalue\u001b[0m\u001b[1;33m:\u001b[0m \u001b[0mOptional\u001b[0m\u001b[1;33m[\u001b[0m\u001b[0mstr\u001b[0m\u001b[1;33m]\u001b[0m \u001b[1;33m=\u001b[0m \u001b[1;32mNone\u001b[0m\u001b[1;33m)\u001b[0m \u001b[1;33m->\u001b[0m \u001b[0mList\u001b[0m\u001b[1;33m[\u001b[0m\u001b[0mWebElement\u001b[0m\u001b[1;33m]\u001b[0m\u001b[1;33m:\u001b[0m\u001b[1;33m\u001b[0m\u001b[1;33m\u001b[0m\u001b[0m\n",
      "\u001b[1;32m~\\anaconda3\\lib\\site-packages\\selenium\\webdriver\\remote\\webdriver.py\u001b[0m in \u001b[0;36mexecute\u001b[1;34m(self, driver_command, params)\u001b[0m\n\u001b[0;32m    346\u001b[0m         \u001b[0mresponse\u001b[0m \u001b[1;33m=\u001b[0m \u001b[0mself\u001b[0m\u001b[1;33m.\u001b[0m\u001b[0mcommand_executor\u001b[0m\u001b[1;33m.\u001b[0m\u001b[0mexecute\u001b[0m\u001b[1;33m(\u001b[0m\u001b[0mdriver_command\u001b[0m\u001b[1;33m,\u001b[0m \u001b[0mparams\u001b[0m\u001b[1;33m)\u001b[0m\u001b[1;33m\u001b[0m\u001b[1;33m\u001b[0m\u001b[0m\n\u001b[0;32m    347\u001b[0m         \u001b[1;32mif\u001b[0m \u001b[0mresponse\u001b[0m\u001b[1;33m:\u001b[0m\u001b[1;33m\u001b[0m\u001b[1;33m\u001b[0m\u001b[0m\n\u001b[1;32m--> 348\u001b[1;33m             \u001b[0mself\u001b[0m\u001b[1;33m.\u001b[0m\u001b[0merror_handler\u001b[0m\u001b[1;33m.\u001b[0m\u001b[0mcheck_response\u001b[0m\u001b[1;33m(\u001b[0m\u001b[0mresponse\u001b[0m\u001b[1;33m)\u001b[0m\u001b[1;33m\u001b[0m\u001b[1;33m\u001b[0m\u001b[0m\n\u001b[0m\u001b[0;32m    349\u001b[0m             \u001b[0mresponse\u001b[0m\u001b[1;33m[\u001b[0m\u001b[1;34m\"value\"\u001b[0m\u001b[1;33m]\u001b[0m \u001b[1;33m=\u001b[0m \u001b[0mself\u001b[0m\u001b[1;33m.\u001b[0m\u001b[0m_unwrap_value\u001b[0m\u001b[1;33m(\u001b[0m\u001b[0mresponse\u001b[0m\u001b[1;33m.\u001b[0m\u001b[0mget\u001b[0m\u001b[1;33m(\u001b[0m\u001b[1;34m\"value\"\u001b[0m\u001b[1;33m,\u001b[0m \u001b[1;32mNone\u001b[0m\u001b[1;33m)\u001b[0m\u001b[1;33m)\u001b[0m\u001b[1;33m\u001b[0m\u001b[1;33m\u001b[0m\u001b[0m\n\u001b[0;32m    350\u001b[0m             \u001b[1;32mreturn\u001b[0m \u001b[0mresponse\u001b[0m\u001b[1;33m\u001b[0m\u001b[1;33m\u001b[0m\u001b[0m\n",
      "\u001b[1;32m~\\anaconda3\\lib\\site-packages\\selenium\\webdriver\\remote\\errorhandler.py\u001b[0m in \u001b[0;36mcheck_response\u001b[1;34m(self, response)\u001b[0m\n\u001b[0;32m    227\u001b[0m                 \u001b[0malert_text\u001b[0m \u001b[1;33m=\u001b[0m \u001b[0mvalue\u001b[0m\u001b[1;33m[\u001b[0m\u001b[1;34m\"alert\"\u001b[0m\u001b[1;33m]\u001b[0m\u001b[1;33m.\u001b[0m\u001b[0mget\u001b[0m\u001b[1;33m(\u001b[0m\u001b[1;34m\"text\"\u001b[0m\u001b[1;33m)\u001b[0m\u001b[1;33m\u001b[0m\u001b[1;33m\u001b[0m\u001b[0m\n\u001b[0;32m    228\u001b[0m             \u001b[1;32mraise\u001b[0m \u001b[0mexception_class\u001b[0m\u001b[1;33m(\u001b[0m\u001b[0mmessage\u001b[0m\u001b[1;33m,\u001b[0m \u001b[0mscreen\u001b[0m\u001b[1;33m,\u001b[0m \u001b[0mstacktrace\u001b[0m\u001b[1;33m,\u001b[0m \u001b[0malert_text\u001b[0m\u001b[1;33m)\u001b[0m  \u001b[1;31m# type: ignore[call-arg]  # mypy is not smart enough here\u001b[0m\u001b[1;33m\u001b[0m\u001b[1;33m\u001b[0m\u001b[0m\n\u001b[1;32m--> 229\u001b[1;33m         \u001b[1;32mraise\u001b[0m \u001b[0mexception_class\u001b[0m\u001b[1;33m(\u001b[0m\u001b[0mmessage\u001b[0m\u001b[1;33m,\u001b[0m \u001b[0mscreen\u001b[0m\u001b[1;33m,\u001b[0m \u001b[0mstacktrace\u001b[0m\u001b[1;33m)\u001b[0m\u001b[1;33m\u001b[0m\u001b[1;33m\u001b[0m\u001b[0m\n\u001b[0m",
      "\u001b[1;31mNoSuchElementException\u001b[0m: Message: no such element: Unable to locate element: {\"method\":\"css selector\",\"selector\":\"section.artdeco-card.KHGPhyqWaZgnQCBDpXvTmdnFECxxVeEs\"}\n  (Session info: chrome=120.0.6099.225); For documentation on this error, please visit: https://www.selenium.dev/documentation/webdriver/troubleshooting/errors#no-such-element-exception\nStacktrace:\n\tGetHandleVerifier [0x00A66EE3+174339]\n\t(No symbol) [0x00990A51]\n\t(No symbol) [0x006A6FF6]\n\t(No symbol) [0x006D9876]\n\t(No symbol) [0x006D9C2C]\n\t(No symbol) [0x0070BD42]\n\t(No symbol) [0x006F7054]\n\t(No symbol) [0x0070A104]\n\t(No symbol) [0x006F6DA6]\n\t(No symbol) [0x006D1034]\n\t(No symbol) [0x006D1F8D]\n\tGetHandleVerifier [0x00B04B1C+820540]\n\tsqlite3_dbdata_init [0x00BC53EE+653550]\n\tsqlite3_dbdata_init [0x00BC4E09+652041]\n\tsqlite3_dbdata_init [0x00BB97CC+605388]\n\tsqlite3_dbdata_init [0x00BC5D9B+656027]\n\t(No symbol) [0x0099FE6C]\n\t(No symbol) [0x009983B8]\n\t(No symbol) [0x009984DD]\n\t(No symbol) [0x00985818]\n\tBaseThreadInitThunk [0x76C17BA9+25]\n\tRtlInitializeExceptionChain [0x77A9BD2B+107]\n\tRtlClearBits [0x77A9BCAF+191]\n"
     ]
    }
   ],
   "source": [
    "# Locate the parent section element using class name\n",
    "profile_section = driver.find_element(By.CSS_SELECTOR, \"section.artdeco-card.KHGPhyqWaZgnQCBDpXvTmdnFECxxVeEs\")\n",
    "\n",
    "# Within the section, locate the h1 element containing the name\n",
    "name_element = profile_section.find_element(By.CSS_SELECTOR, \"h1.text-heading-xlarge\")\n",
    "\n",
    "# Get the text content of the name element\n",
    "name = name_element.text\n",
    "\n",
    "# Print\n",
    "print(\"Name:\",name)"
   ]
  },
  {
   "cell_type": "markdown",
   "id": "a85a17a9",
   "metadata": {},
   "source": [
    "## Getting the location which is present below name "
   ]
  },
  {
   "cell_type": "raw",
   "id": "cf517af4",
   "metadata": {},
   "source": [
    "# This is the main tree or you can say class \n",
    "<section class=\"artdeco-card XdHzxPXudfsIQlpuimNSqmBpFIzXeilIsI\" data-member-id=\"562822797\">\n",
    "\n",
    "# Here the location is stored \n",
    "<span class=\"text-body-small inline t-black--light break-words\">Pune, Maharashtra, India\n",
    "       "
   ]
  },
  {
   "cell_type": "code",
   "execution_count": null,
   "id": "bc6f0b84",
   "metadata": {},
   "outputs": [],
   "source": [
    "# Locate the parent section element using class name\n",
    "profile_section = driver.find_element(By.CSS_SELECTOR, \"section.artdeco-card.KHGPhyqWaZgnQCBDpXvTmdnFECxxVeEs\")\n",
    "\n",
    "# Within the section, locate the span element containing the location\n",
    "location_element = profile_section.find_element(By.CSS_SELECTOR, \"span.text-body-small.inline.t-black--light.break-words\")\n",
    "\n",
    "# Get the text content of the location element\n",
    "location = location_element.text\n",
    "\n",
    "# Print\n",
    "print(\"Location:\",location)"
   ]
  },
  {
   "cell_type": "markdown",
   "id": "c99ffcb9",
   "metadata": {},
   "source": [
    "## Getting number of connections"
   ]
  },
  {
   "cell_type": "code",
   "execution_count": null,
   "id": "13c3b1ef",
   "metadata": {},
   "outputs": [],
   "source": [
    "# Locate the parent section element using class name\n",
    "profile_section = driver.find_element(By.CSS_SELECTOR, \"section.artdeco-card.XdHzxPXudfsIQlpuimNSqmBpFIzXeilIsI\")\n",
    "\n",
    "# Within the section, locate the span element containing the number of connections\n",
    "connections_element = profile_section.find_element(By.CSS_SELECTOR, \"span.link-without-visited-state\")\n",
    "\n",
    "# Get the text content of the connections element\n",
    "connections_text = connections_element.text\n",
    "\n",
    "# Extract the number of connections using string manipulation\n",
    "# Assuming the text is in the format \"XXX connections\"\n",
    "connections = int(connections_text.split()[0]) if \"connections\" in connections_text else 0\n",
    "\n",
    "# Print\n",
    "print(\"Number of Connections:\",connections)"
   ]
  },
  {
   "cell_type": "code",
   "execution_count": null,
   "id": "bbb4c2ce",
   "metadata": {},
   "outputs": [],
   "source": [
    "###"
   ]
  },
  {
   "cell_type": "raw",
   "id": "6c214d2d",
   "metadata": {},
   "source": [
    "instead of css_selector use bs, use parent.find \n",
    "\n",
    "https://www.projectpro.io/recipes/use-of-parent-function-in-beautiful-soup\n",
    "\n",
    "connections_element = profile_section.find_element(By.CSS_SELECTOR, \"span.link-without-visited-state\")\n"
   ]
  },
  {
   "cell_type": "markdown",
   "id": "be9a95d6",
   "metadata": {},
   "source": [
    "## Extracting data from About"
   ]
  },
  {
   "cell_type": "raw",
   "id": "6fed0c19",
   "metadata": {},
   "source": [
    "## This is the main tree or you can say class \n",
    "\n",
    "<section class=\"artdeco-card pv-profile-card break-words\n",
    "            \n",
    "            \n",
    "            mt2\" tabindex=\"-1\" data-view-name=\"profile-card\">\n",
    "\n",
    "# In this tag location is stored\n",
    "\n",
    "<div class=\"eOcXOawzzGwYPEGjPXmXozqIxDeXigpnUPAHvdSc\n",
    "        inline-show-more-text--is-collapsed\n",
    "        inline-show-more-text--is-collapsed-with-line-clamp\n",
    "        \n",
    "        \n",
    "         full-width\" style=\"-webkit-line-clamp:4;\" tabindex=\"-1\">\n",
    "\n",
    "    \n",
    " 3333333333333333333333333333333333333333333333333333333333333333333333333333333333333333333333333333333333333333333333333333\n",
    " \n",
    " <div class=\"display-flex ph5 pv3\">\n",
    " \n",
    " 3333333333333333333333333333333333333333333333333333333333333333333333333333333333333333333333333333333333333333333333333333\n",
    "    \n",
    " <div class=\"eOcXOawzzGwYPEGjPXmXozqIxDeXigpnUPAHvdSc\n",
    "        \n",
    "        \n",
    "        \n",
    "        \n",
    "         full-width\" style=\"\" tabindex=\"-1\">\n",
    "\n",
    "3333333333333333333333333333333333333333333333333333333333333333333333333333333333333333333333333333333333333333333333333333\n",
    "<div class=\"\n",
    "          display-flex full-width\" data-generated-suggestion-target=\"urn:li:fsu_profileActionDelegate:-191508688\">\n",
    "        \n",
    "3333333333333333333333333333333333333333333333333333333333333333333333333333333333333333333333333333333333333333333333333333       \n",
    "<span class=\"visually-hidden\">"
   ]
  },
  {
   "cell_type": "code",
   "execution_count": null,
   "id": "00a3b17e",
   "metadata": {},
   "outputs": [],
   "source": []
  },
  {
   "cell_type": "code",
   "execution_count": null,
   "id": "b1bc8317",
   "metadata": {},
   "outputs": [],
   "source": []
  },
  {
   "cell_type": "code",
   "execution_count": null,
   "id": "d6712312",
   "metadata": {},
   "outputs": [],
   "source": []
  },
  {
   "cell_type": "code",
   "execution_count": null,
   "id": "7a2b1a07",
   "metadata": {},
   "outputs": [],
   "source": []
  },
  {
   "cell_type": "markdown",
   "id": "4e409a9a",
   "metadata": {},
   "source": [
    "## Experience"
   ]
  },
  {
   "cell_type": "raw",
   "id": "858f2456",
   "metadata": {},
   "source": [
    "# SHakir tag \n",
    "#BNY\n",
    "<span class=\"pvs-entity__caption-wrapper\" aria-hidden=\"true\"><!---->Feb 2022 - Sep 2022 · 8 mos<!----></span>\n",
    "# Faz\n",
    "<span class=\"pvs-entity__caption-wrapper\" aria-hidden=\"true\"><!---->Dec 2022 - Present · 1 yr 2 mos<!----></span>\n",
    "\n",
    "# Shivam tag\n",
    "<span class=\"pvs-entity__caption-wrapper\" aria-hidden=\"true\"><!---->May 2022 - Present · 1 yr 9 mos<!----></span>"
   ]
  }
 ],
 "metadata": {
  "kernelspec": {
   "display_name": "Python 3 (ipykernel)",
   "language": "python",
   "name": "python3"
  },
  "language_info": {
   "codemirror_mode": {
    "name": "ipython",
    "version": 3
   },
   "file_extension": ".py",
   "mimetype": "text/x-python",
   "name": "python",
   "nbconvert_exporter": "python",
   "pygments_lexer": "ipython3",
   "version": "3.9.13"
  },
  "varInspector": {
   "cols": {
    "lenName": 16,
    "lenType": 16,
    "lenVar": 40
   },
   "kernels_config": {
    "python": {
     "delete_cmd_postfix": "",
     "delete_cmd_prefix": "del ",
     "library": "var_list.py",
     "varRefreshCmd": "print(var_dic_list())"
    },
    "r": {
     "delete_cmd_postfix": ") ",
     "delete_cmd_prefix": "rm(",
     "library": "var_list.r",
     "varRefreshCmd": "cat(var_dic_list()) "
    }
   },
   "types_to_exclude": [
    "module",
    "function",
    "builtin_function_or_method",
    "instance",
    "_Feature"
   ],
   "window_display": false
  }
 },
 "nbformat": 4,
 "nbformat_minor": 5
}
