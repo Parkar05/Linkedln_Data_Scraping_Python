{
 "cells": [
  {
   "cell_type": "code",
   "execution_count": 1,
   "id": "5abe4532",
   "metadata": {},
   "outputs": [],
   "source": [
    "import pandas as pd \n",
    "from parsel import selector\n",
    "from time import sleep\n",
    "from selenium import webdriver\n",
    "from selenium.webdriver.common.by import By \n",
    "from selenium.webdriver.support.ui import WebDriverWait\n",
    "from selenium.webdriver.support import expected_conditions as EC\n",
    "from selenium.webdriver.chrome.options import Options\n",
    "from selenium.webdriver.common.keys import Keys\n",
    "from selenium.webdriver.chrome.service import Service as ChromeService\n",
    "import time"
   ]
  },
  {
   "cell_type": "code",
   "execution_count": 2,
   "id": "ba043810",
   "metadata": {},
   "outputs": [],
   "source": [
    "chrome_driver_path = r\"C:\\Users\\MD\\.wdm\\drivers\\chromedriver\\win64\\120.0.6099.109\\chromedriver-win32\\chromedriver.exe\"\n",
    "\n",
    "## Create ChromeOptions instance\n",
    "chrome_options = Options()\n",
    "\n",
    "\n",
    "# Instantiate the WebDriver with the ChromeOptions and path\n",
    "service = ChromeService(executable_path=chrome_driver_path)\n",
    "driver = webdriver.Chrome(service=service, options=chrome_options)"
   ]
  },
  {
   "cell_type": "code",
   "execution_count": 3,
   "id": "04957285",
   "metadata": {},
   "outputs": [],
   "source": [
    "# driver.get is used to navigate to a page which is given in url addres \n",
    "driver.get(\"https://linkedin.com/uas/login\")\n",
    "time.sleep(5)\n"
   ]
  },
  {
   "cell_type": "code",
   "execution_count": 4,
   "id": "bed42d87",
   "metadata": {},
   "outputs": [
    {
     "name": "stdout",
     "output_type": "stream",
     "text": [
      "Chat box element not found within 20 seconds. Continuing without closing.\n"
     ]
    }
   ],
   "source": [
    "## Now we are on linkedln\n",
    "#Entering email by finding the html tag \n",
    "username = driver.find_element(By.ID, \"username\")\n",
    "username.send_keys(\"mohammedaliparkar123@gmail.com\")  \n",
    "\n",
    "sleep(5)\n",
    "\n",
    "#Entering password by finding the html tag \n",
    "password = driver.find_element(By.ID, \"password\")\n",
    "password.send_keys(\"Mohammedali@123\")\n",
    "\n",
    "sleep(5)\n",
    "\n",
    "## Clicking on the click(submit) button\n",
    "\n",
    "driver.find_element(By.XPATH, \"//button[@type='submit']\").click()\n",
    "sleep(5)\n",
    "\n",
    "##############################################################################################################################\n",
    "# Trying to close the chat box \n",
    "from selenium.common.exceptions import TimeoutException\n",
    "\n",
    "try:\n",
    "    chat_box_element = WebDriverWait(driver, 20).until(EC.presence_of_element_located((By.XPATH, \"//div[@class='chat-box']\")))\n",
    "    close_button = chat_box_element.find_element(By.XPATH, \"//button[@class='close-button']\")\n",
    "    close_button.click()\n",
    "except TimeoutException:\n",
    "    print(\"Chat box element not found within 20 seconds. Continuing without closing.\")"
   ]
  },
  {
   "cell_type": "code",
   "execution_count": 5,
   "id": "c6b3d4ff",
   "metadata": {},
   "outputs": [],
   "source": [
    "import pyautogui as pag\n",
    "import random\n",
    "import time\n",
    "\n",
    "# duration in seconds\n",
    "duration = 5\n",
    "\n",
    "# Get the start time\n",
    "start_time = time.time()\n",
    "\n",
    "# Main loop\n",
    "while time.time() - start_time < duration:\n",
    "    x = random.randint(600, 700)\n",
    "    y = random.randint(200, 600)\n",
    "    \n",
    "    # Move the mouse\n",
    "    pag.moveTo(x, y, duration=0.5)\n",
    "    \n",
    "    # Scroll randomly \n",
    "    scroll_amount = random.randint(-1000, 1000)\n",
    "    pag.scroll(scroll_amount)"
   ]
  },
  {
   "cell_type": "code",
   "execution_count": 6,
   "id": "329d2437",
   "metadata": {},
   "outputs": [],
   "source": [
    "### visiting the prospects url \n",
    "\n",
    "profile_url = \"https://www.linkedin.com/in/shivam-nalawade-7795a3138/\"\n",
    " \n",
    "driver.get(profile_url)"
   ]
  },
  {
   "cell_type": "code",
   "execution_count": 7,
   "id": "4964c998",
   "metadata": {},
   "outputs": [],
   "source": [
    "\n",
    "# Setting the initial scroll height\n",
    "scroll_height = 0\n",
    "\n",
    "# Defining the scroll increment\n",
    "scroll_increment = random.uniform(100, 10000)  # Vary the scroll increment\n",
    "\n",
    "# Scroll down gradually until the end\n",
    "while True:\n",
    "    # Scroll down by a certain amount\n",
    "    driver.execute_script(f\"window.scrollBy(0, {scroll_increment});\")\n",
    "\n",
    "    # Wait for a random duration to simulate a more human-like scroll\n",
    "    time.sleep(random.uniform(1, 2))  \n",
    "\n",
    "    # Calculate the new scroll height\n",
    "    new_scroll_height = driver.execute_script(\"return document.body.scrollHeight\")\n",
    "\n",
    "    # Break the loop if the scroll height hasn't changed for a few consecutive iterations\n",
    "    if new_scroll_height == scroll_height:\n",
    "        consecutive_no_change += 1\n",
    "        if consecutive_no_change >= 3:\n",
    "            break\n",
    "    else:\n",
    "        consecutive_no_change = 0\n",
    "\n",
    "    # Update the scroll height\n",
    "    scroll_height = new_scroll_height"
   ]
  },
  {
   "cell_type": "markdown",
   "id": "8e048dc7",
   "metadata": {},
   "source": [
    "## Scraping the name "
   ]
  },
  {
   "cell_type": "raw",
   "id": "d30cc37e",
   "metadata": {},
   "source": [
    "# This is the main class where the name tag we can find\n",
    "\n",
    "<section class=\"artdeco-card XdHzxPXudfsIQlpuimNSqmBpFIzXeilIsI\" data-member-id=\"562822797\">"
   ]
  },
  {
   "cell_type": "raw",
   "id": "1f510791",
   "metadata": {},
   "source": [
    "# This is the class where name tag is stored\n",
    "\n",
    "<h1 class=\"text-heading-xlarge inline t-24 v-align-middle break-words\">Shivam Nalawade</h1>"
   ]
  },
  {
   "cell_type": "raw",
   "id": "7bfe3cfa",
   "metadata": {},
   "source": [
    "## The problem occured was in in the main class tag. The problem was: The artdeco tag kept on changing , \n",
    "    Now try out with parent method "
   ]
  },
  {
   "cell_type": "code",
   "execution_count": 8,
   "id": "9e7e6d52",
   "metadata": {},
   "outputs": [
    {
     "name": "stdout",
     "output_type": "stream",
     "text": [
      "Name: Shivam Nalawade\n"
     ]
    }
   ],
   "source": [
    "# Find all h1 elements on the page\n",
    "name_elements = driver.find_elements(By.TAG_NAME, \"h1\")\n",
    "\n",
    "# Iterate through each h1 element\n",
    "for element in name_elements:\n",
    "    # Check if the text content of the element matches the expected format for a name\n",
    "    if element.text.strip():  # Ensure the text is not empty or only whitespace\n",
    "        name = element.text.strip()\n",
    "        print(\"Name:\", name)\n",
    "        break  # Exit the loop after finding the first name element\n",
    "else:\n",
    "    # Handle the case where no name element is found\n",
    "    print(\"No name element found on the page.\")"
   ]
  },
  {
   "cell_type": "markdown",
   "id": "4c9bf33b",
   "metadata": {},
   "source": [
    "## Getting the location which is present below name "
   ]
  },
  {
   "cell_type": "raw",
   "id": "721f8c3c",
   "metadata": {},
   "source": [
    "# This is the main tree or you can say class \n",
    "<section class=\"artdeco-card XdHzxPXudfsIQlpuimNSqmBpFIzXeilIsI\" data-member-id=\"562822797\">\n",
    "\n",
    "# Here the location is stored \n",
    "<span class=\"text-body-small inline t-black--light break-words\">Pune, Maharashtra, India"
   ]
  },
  {
   "cell_type": "code",
   "execution_count": 9,
   "id": "b4c06610",
   "metadata": {},
   "outputs": [
    {
     "name": "stdout",
     "output_type": "stream",
     "text": [
      "Location: Pune, Maharashtra, India\n"
     ]
    }
   ],
   "source": [
    "\"\"\"# Find all h1 elements on the page\n",
    "name_elements = driver.find_elements(By.TAG_NAME, \"h1\")\n",
    "\n",
    "# Iterate through each h1 element\n",
    "for element in name_elements:\n",
    "    # Check if the text content of the element matches the expected format for a name\n",
    "    if element.text.strip():  # Ensure the text is not empty or only whitespace\n",
    "        name = element.text.strip()\n",
    "        print(\"Name:\", name)\n",
    "        break  # Exit the loop after finding the first name element\n",
    "else:\n",
    "    # Handle the case where no name element is found\n",
    "    print(\"No name element found on the page.\")\"\"\"\n",
    "\n",
    "# Find all span elements with the specified class on the page\n",
    "location_elements = driver.find_elements(By.CSS_SELECTOR, \"span.text-body-small.inline.t-black--light.break-words\")\n",
    "\n",
    "# Iterate through each location element\n",
    "for element in location_elements:\n",
    "    # Check if the text content of the element matches the expected format for a location\n",
    "    if element.text.strip():  # Ensure the text is not empty or only whitespace\n",
    "        location = element.text.strip()\n",
    "        print(\"Location:\", location)\n",
    "        break  # Exit the loop after finding the first location element\n",
    "else:\n",
    "    # Handle the case where no location element is found\n",
    "    print(\"No location element found on the page.\")"
   ]
  },
  {
   "cell_type": "markdown",
   "id": "7b81cfd5",
   "metadata": {},
   "source": [
    "## Getting number of connections"
   ]
  },
  {
   "cell_type": "raw",
   "id": "b7f18a66",
   "metadata": {},
   "source": [
    "<span class=\"link-without-visited-state\">        "
   ]
  },
  {
   "cell_type": "markdown",
   "id": "8b9f3990",
   "metadata": {},
   "source": [
    "### By using tag "
   ]
  },
  {
   "cell_type": "code",
   "execution_count": 10,
   "id": "4bbad7df",
   "metadata": {},
   "outputs": [
    {
     "name": "stdout",
     "output_type": "stream",
     "text": [
      "Number of Connections: 148\n"
     ]
    }
   ],
   "source": [
    "# Find all span elements on the page\n",
    "span_elements = driver.find_elements(By.TAG_NAME, \"span\")\n",
    "\n",
    "# Iterate through each span element\n",
    "for element in span_elements:\n",
    "    # Check if the text content of the element contains information about connections\n",
    "    if \"connections\" in element.text:\n",
    "        # Extract the number of connections from the text content\n",
    "        connections_text = element.text.strip()\n",
    "        connections = int(connections_text.split()[0]) if connections_text else 0\n",
    "        print(\"Number of Connections:\", connections)\n",
    "        break  # Exit the loop after finding the first element with connection information\n",
    "else:\n",
    "    # Handle the case where no element with connection information is found\n",
    "    print(\"No element containing connection information found on the page.\")"
   ]
  },
  {
   "cell_type": "markdown",
   "id": "569aa19e",
   "metadata": {},
   "source": [
    "### By using CSS_SELECTOR"
   ]
  },
  {
   "cell_type": "code",
   "execution_count": 11,
   "id": "b76e38cd",
   "metadata": {},
   "outputs": [
    {
     "name": "stdout",
     "output_type": "stream",
     "text": [
      "Number of Connections: 148\n"
     ]
    }
   ],
   "source": [
    "# Find all span elements on the page\n",
    "span_elements = driver.find_elements(By.CSS_SELECTOR,\"span.link-without-visited-state\")\n",
    "\n",
    "# Iterate through each span element\n",
    "for element in span_elements:\n",
    "    # Check if the text content of the element contains information about connections\n",
    "    if \"connections\" in element.text:\n",
    "        # Extract the number of connections from the text content\n",
    "        connections_text = element.text.strip()\n",
    "        connections = int(connections_text.split()[0]) if connections_text else 0\n",
    "        print(\"Number of Connections:\", connections)\n",
    "        break  # Exit the loop after finding the first element with connection information\n",
    "else:\n",
    "    # Handle the case where no element with connection information is found\n",
    "    print(\"No element containing connection information found on the page.\")"
   ]
  },
  {
   "cell_type": "markdown",
   "id": "cb8c1d82",
   "metadata": {},
   "source": [
    "## Extracting data from highlights"
   ]
  },
  {
   "cell_type": "raw",
   "id": "17ab0ed5",
   "metadata": {},
   "source": [
    "## This is the main tree or you can say class \n",
    "\n",
    "<section class=\"artdeco-card pv-profile-card break-words\n",
    "            \n",
    "            \n",
    "            mt2\" tabindex=\"-1\" data-view-name=\"profile-card\">"
   ]
  },
  {
   "cell_type": "code",
   "execution_count": 12,
   "id": "82babc74",
   "metadata": {},
   "outputs": [
    {
     "name": "stdout",
     "output_type": "stream",
     "text": [
      "Text inside the section tag: Highlights\n",
      "Highlights\n",
      "You both work at GO MO Group\n",
      "You both work at GO MO Group\n",
      "Shivam started at GO MO Group 1 year and 4 months before you did\n",
      "Shivamstarted at GO MO Group 1 year and 4 months before you did\n",
      "Message\n"
     ]
    }
   ],
   "source": [
    "# Find all section elements on the page\n",
    "section_elements = driver.find_elements(By.TAG_NAME, \"section\")\n",
    "\n",
    "# Iterate through each section element\n",
    "for element in section_elements:\n",
    "    # Check if the section element has specific classes\n",
    "    if \"artdeco-card\" in element.get_attribute(\"class\") and \\\n",
    "       \"pv-profile-card\" in element.get_attribute(\"class\") and \\\n",
    "       \"break-words\" in element.get_attribute(\"class\") and \\\n",
    "       \"mt2\" in element.get_attribute(\"class\"):\n",
    "        # Extract the text content of the section element\n",
    "        section_text = element.text.strip()\n",
    "        print(\"Text inside the section tag:\", section_text)\n",
    "        break  # Exit the loop after finding the first matching section element\n",
    "else:\n",
    "    # Handle the case where no matching section element is found\n",
    "    print(\"No section element with specified classes found on the page.\")"
   ]
  },
  {
   "cell_type": "markdown",
   "id": "8ffe61b6",
   "metadata": {},
   "source": [
    "## Extracting data from About"
   ]
  },
  {
   "cell_type": "raw",
   "id": "9002c320",
   "metadata": {},
   "source": [
    "<div class=\"\n",
    "          display-flex full-width\" data-generated-suggestion-target=\"urn:li:fsu_profileActionDelegate:-191508688\">    "
   ]
  },
  {
   "cell_type": "markdown",
   "id": "2a481b13",
   "metadata": {},
   "source": [
    "### Using .CSS_SELECTOR"
   ]
  },
  {
   "cell_type": "code",
   "execution_count": 13,
   "id": "caf397e9",
   "metadata": {},
   "outputs": [
    {
     "name": "stdout",
     "output_type": "stream",
     "text": [
      "Text inside the About Section: I am a keen mechanical professional looking to work for a challenging and responsible position in the field of Information Technology. I have the flexibility to adapt to any new environment and work tirelessly on interesting projects. My vigor and skill will be a great strength for the company and I will make sure to bring success to all projects.\n"
     ]
    }
   ],
   "source": [
    "# Find the div element with the specified class and attribute\n",
    "div_element = driver.find_element(By.CSS_SELECTOR, \"div.display-flex.full-width[data-generated-suggestion-target='urn:li:fsu_profileActionDelegate:-191508688']\")\n",
    "\n",
    "# Get the text content of the div element\n",
    "if div_element:\n",
    "    div_text = div_element.text.strip()\n",
    "    print(\"Text inside the About Section:\", div_text)\n",
    "else:\n",
    "    print(\"About text not found.\")"
   ]
  },
  {
   "cell_type": "markdown",
   "id": "cf35aeb9",
   "metadata": {},
   "source": [
    "### Using find_elements"
   ]
  },
  {
   "cell_type": "code",
   "execution_count": 14,
   "id": "dbf34e37",
   "metadata": {},
   "outputs": [
    {
     "name": "stdout",
     "output_type": "stream",
     "text": [
      "Text inside the About Section: I am a keen mechanical professional looking to work for a challenging and responsible position in the field of Information Technology. I have the flexibility to adapt to any new environment and work tirelessly on interesting projects. My vigor and skill will be a great strength for the company and I will make sure to bring success to all projects.\n"
     ]
    }
   ],
   "source": [
    "# Find all div elements on the page\n",
    "div_elements = driver.find_elements(By.TAG_NAME, \"div\")\n",
    "\n",
    "# Iterate through each div element\n",
    "for div_element in div_elements:\n",
    "    # Check if the div element has the specified class and attribute\n",
    "    class_attribute = div_element.get_attribute(\"class\")\n",
    "    data_attribute = div_element.get_attribute(\"data-generated-suggestion-target\")\n",
    "    if class_attribute and \"display-flex\" in class_attribute and \"full-width\" in class_attribute and \\\n",
    "       data_attribute == \"urn:li:fsu_profileActionDelegate:-191508688\":\n",
    "        # Extract the text content of the div element\n",
    "        div_text = div_element.text.strip()\n",
    "        print(\"Text inside the About Section:\", div_text)\n",
    "        break  # Exit the loop after finding the first matching div element\n",
    "else:\n",
    "    # Handle the case where no matching div element is found\n",
    "    print(\"About text not found.\")"
   ]
  },
  {
   "cell_type": "markdown",
   "id": "f780c810",
   "metadata": {},
   "source": [
    "## Extracting data from Experience"
   ]
  },
  {
   "cell_type": "raw",
   "id": "c2165f5e",
   "metadata": {},
   "source": [
    "<div class=\"display-flex flex-column full-width align-self-center\"> \n",
    "\n",
    "<div class=\"pvs-list__outer-container\">      "
   ]
  },
  {
   "cell_type": "code",
   "execution_count": 15,
   "id": "4d0800be",
   "metadata": {},
   "outputs": [
    {
     "name": "stdout",
     "output_type": "stream",
     "text": [
      "Data in the column: You both work at GO MO Group\n",
      "You both work at GO MO Group\n",
      "Shivam started at GO MO Group 1 year and 4 months before you did\n",
      "Shivamstarted at GO MO Group 1 year and 4 months before you did\n",
      "Message\n",
      "Data in the column: Research Analyst\n",
      "Research Analyst\n",
      "GO MO Group · Full-time\n",
      "GO MO Group · Full-time\n",
      "May 2022 - Present · 1 yr 10 mos\n",
      "May 2022 - Present · 1 yr 10 mos\n",
      "Pune, Maharashtra, India\n",
      "Pune, Maharashtra, India\n",
      "Data in the column: JSPMs Jayawantrao Sawant College of Engineering, Handewadi Road, Hadapsar, Pune 28.\n",
      "JSPMs Jayawantrao Sawant College of Engineering, Handewadi Road, Hadapsar, Pune 28.\n",
      "Diploma, Mechanical Engineering\n",
      "Diploma, Mechanical Engineering\n",
      "2015 - 2018\n",
      "2015 - 2018\n",
      "Data in the column: English\n",
      "English\n",
      "Endorse\n",
      "Data in the column: Communication\n",
      "Communication\n",
      "Endorse\n",
      "Data in the column: Tata Consultancy Services\n",
      "Tata Consultancy Services\n",
      "14,355,031 followers\n",
      "14,355,031 followers\n",
      "Following\n",
      "Data in the column: Tech Mahindra\n",
      "Tech Mahindra\n",
      "5,520,465 followers\n",
      "5,520,465 followers\n",
      "Follow\n",
      "Data in the column: \n",
      "Data in the column: Prasad Jadhav\n",
      "Prasad Jadhav\n",
      "· 2nd\n",
      "Second degree connection\n",
      "Email Marketing Executive at GO MO Group\n",
      "Email Marketing Executive at GO MO Group\n",
      "Connect\n",
      "Data in the column: Anurag Deokar\n",
      "Anurag Deokar\n",
      "· 2nd\n",
      "Second degree connection\n",
      "Wordpress Developer at GO MO Group \n",
      "Wordpress Developer at GO MO Group\n",
      "Follow\n",
      "Data in the column: Imran Pathan\n",
      "Imran Pathan\n",
      "· 1st\n",
      "First degree connection\n",
      "Wordpress Developer, SEO Analyst, Digital Marketing \n",
      "Wordpress Developer, SEO Analyst, Digital Marketing\n",
      "Message\n",
      "Data in the column: Aakash Vachhani\n",
      "Aakash Vachhani\n",
      "· 1st\n",
      "First degree connection\n",
      "Operations Manager at GO MO Group.\n",
      "Operations Manager at GO MO Group.\n",
      "Message\n",
      "Data in the column: Arshad Sutar\n",
      "Arshad Sutar\n",
      "· 2nd\n",
      "Second degree connection\n",
      "Sr. Data Analyst at GO MO Group\n",
      "Sr. Data Analyst at GO MO Group\n",
      "Connect\n",
      "Data in the column: Shubham Pardeshi\n",
      "Shubham Pardeshi\n",
      "Research Analyst at Reports Insights Consulting Pvt Ltd\n",
      "Research Analyst at Reports Insights Consulting Pvt Ltd\n",
      "Connect\n",
      "Data in the column: Jyoti Patil\n",
      "Jyoti Patil\n",
      "Assistant Manager\n",
      "Assistant Manager\n",
      "Connect\n",
      "Data in the column: Shreya Rao\n",
      "Shreya Rao\n",
      "Google DSC Lead '23 | SIH Finalist'23 | GEN AI | computer vision | ML | DL | NLP |\n",
      "Connect\n",
      "Data in the column: Ganesh Thorat\n",
      "Ganesh Thorat\n",
      "Founder & CEO at CerebroSpark Innovations\n",
      "Founder & CEO at CerebroSpark Innovations\n",
      "Connect\n",
      "Data in the column: Irshad Pathan\n",
      "Irshad Pathan\n",
      "Analyst-Customer Success Operations at DIGITALZONE\n",
      "Analyst-Customer Success Operations at DIGITALZONE\n",
      "Connect\n",
      "Data in the column: Spolto\n",
      "Spolto\n",
      "Sports and Recreation Instruction\n",
      "Sports and Recreation Instruction\n",
      "1,193 followers\n",
      "1,193 followers\n",
      "2 connections work here\n",
      "Follow\n",
      "Data in the column: JCB India Ltd.\n",
      "JCB India Ltd.\n",
      "Motor Vehicle Manufacturing\n",
      "Motor Vehicle Manufacturing\n",
      "650,092 followers\n",
      "650,092 followers\n",
      "174 connections follow this page\n",
      "Follow\n"
     ]
    }
   ],
   "source": [
    "# Find all div elements on the page\n",
    "div_elements = driver.find_elements(By.TAG_NAME, \"div\")\n",
    "\n",
    "# Iterate through each div element\n",
    "for div_element in div_elements:\n",
    "    # Check if the div element has the specified class\n",
    "    class_attribute = div_element.get_attribute(\"class\")\n",
    "    if class_attribute and \"display-flex\" in class_attribute and \"flex-column\" in class_attribute and \"full-width\" in class_attribute and \"align-self-center\" in class_attribute:\n",
    "        # Extract the text content of the div element\n",
    "        div_text = div_element.text.strip()\n",
    "        print(\"Data in the column:\",div_text)"
   ]
  },
  {
   "cell_type": "code",
   "execution_count": 16,
   "id": "b9a41e3e",
   "metadata": {},
   "outputs": [
    {
     "name": "stdout",
     "output_type": "stream",
     "text": [
      "Text data: You both work at GO MO Group\n",
      "You both work at GO MO Group\n",
      "Shivam started at GO MO Group 1 year and 4 months before you did\n",
      "Shivamstarted at GO MO Group 1 year and 4 months before you did\n",
      "Message\n",
      "Text data: Message\n",
      "Text data: \n",
      "Text data: Research Analyst\n",
      "Research Analyst\n",
      "GO MO Group · Full-time\n",
      "GO MO Group · Full-time\n",
      "May 2022 - Present · 1 yr 10 mos\n",
      "May 2022 - Present · 1 yr 10 mos\n",
      "Pune, Maharashtra, India\n",
      "Pune, Maharashtra, India\n",
      "Text data: JSPMs Jayawantrao Sawant College of Engineering, Handewadi Road, Hadapsar, Pune 28.\n",
      "JSPMs Jayawantrao Sawant College of Engineering, Handewadi Road, Hadapsar, Pune 28.\n",
      "Diploma, Mechanical Engineering\n",
      "Diploma, Mechanical Engineering\n",
      "2015 - 2018\n",
      "2015 - 2018\n",
      "Text data: English\n",
      "English\n",
      "Endorse\n",
      "Communication\n",
      "Communication\n",
      "Endorse\n",
      "Show all 6 skills\n",
      "Text data: Endorse\n",
      "Text data: Endorse\n",
      "Text data: Tata Consultancy Services\n",
      "Tata Consultancy Services\n",
      "14,355,031 followers\n",
      "14,355,031 followers\n",
      "Following\n",
      "Tech Mahindra\n",
      "Tech Mahindra\n",
      "5,520,465 followers\n",
      "5,520,465 followers\n",
      "Follow\n",
      "Show all companies\n",
      "Text data: Following\n",
      "Text data: Follow\n",
      "Text data: \n",
      "Text data: \n",
      "Text data: Prasad Jadhav\n",
      "Prasad Jadhav\n",
      "· 2nd\n",
      "Second degree connection\n",
      "Email Marketing Executive at GO MO Group\n",
      "Email Marketing Executive at GO MO Group\n",
      "Connect\n",
      "Anurag Deokar\n",
      "Anurag Deokar\n",
      "· 2nd\n",
      "Second degree connection\n",
      "Wordpress Developer at GO MO Group \n",
      "Wordpress Developer at GO MO Group\n",
      "Follow\n",
      "Imran Pathan\n",
      "Imran Pathan\n",
      "· 1st\n",
      "First degree connection\n",
      "Wordpress Developer, SEO Analyst, Digital Marketing \n",
      "Wordpress Developer, SEO Analyst, Digital Marketing\n",
      "Message\n",
      "Aakash Vachhani\n",
      "Aakash Vachhani\n",
      "· 1st\n",
      "First degree connection\n",
      "Operations Manager at GO MO Group.\n",
      "Operations Manager at GO MO Group.\n",
      "Message\n",
      "Arshad Sutar\n",
      "Arshad Sutar\n",
      "· 2nd\n",
      "Second degree connection\n",
      "Sr. Data Analyst at GO MO Group\n",
      "Sr. Data Analyst at GO MO Group\n",
      "Connect\n",
      "Show all\n",
      "Text data: Connect\n",
      "Text data: Follow\n",
      "Text data: Message\n",
      "Text data: Message\n",
      "Text data: Connect\n",
      "Text data: Shubham Pardeshi\n",
      "Shubham Pardeshi\n",
      "Research Analyst at Reports Insights Consulting Pvt Ltd\n",
      "Research Analyst at Reports Insights Consulting Pvt Ltd\n",
      "Connect\n",
      "Jyoti Patil\n",
      "Jyoti Patil\n",
      "Assistant Manager\n",
      "Assistant Manager\n",
      "Connect\n",
      "Shreya Rao\n",
      "Shreya Rao\n",
      "Google DSC Lead '23 | SIH Finalist'23 | GEN AI | computer vision | ML | DL | NLP |\n",
      "Connect\n",
      "Ganesh Thorat\n",
      "Ganesh Thorat\n",
      "Founder & CEO at CerebroSpark Innovations\n",
      "Founder & CEO at CerebroSpark Innovations\n",
      "Connect\n",
      "Irshad Pathan\n",
      "Irshad Pathan\n",
      "Analyst-Customer Success Operations at DIGITALZONE\n",
      "Analyst-Customer Success Operations at DIGITALZONE\n",
      "Connect\n",
      "Show all\n",
      "Text data: Connect\n",
      "Text data: Connect\n",
      "Text data: Connect\n",
      "Text data: Connect\n",
      "Text data: Connect\n",
      "Text data: Spolto\n",
      "Spolto\n",
      "Sports and Recreation Instruction\n",
      "Sports and Recreation Instruction\n",
      "1,193 followers\n",
      "1,193 followers\n",
      "2 connections work here\n",
      "Follow\n",
      "JCB India Ltd.\n",
      "JCB India Ltd.\n",
      "Motor Vehicle Manufacturing\n",
      "Motor Vehicle Manufacturing\n",
      "650,092 followers\n",
      "650,092 followers\n",
      "174 connections follow this page\n",
      "Follow\n",
      "Show all\n",
      "Text data: 2 connections work here\n",
      "Follow\n",
      "Text data: 174 connections follow this page\n",
      "Follow\n"
     ]
    }
   ],
   "source": [
    "# Find all div elements with the specified class on the page\n",
    "div_elements = driver.find_elements(By.CSS_SELECTOR, \"div.pvs-list__outer-container\")\n",
    "\n",
    "# Iterate through each div element\n",
    "for div_element in div_elements:\n",
    "    # Extract the text content of the div element\n",
    "    div_text = div_element.text.strip()\n",
    "    print(\"Text data:\",div_text)"
   ]
  },
  {
   "cell_type": "code",
   "execution_count": null,
   "id": "1a41b8c6",
   "metadata": {},
   "outputs": [],
   "source": []
  },
  {
   "cell_type": "code",
   "execution_count": null,
   "id": "f612f889",
   "metadata": {},
   "outputs": [],
   "source": []
  }
 ],
 "metadata": {
  "kernelspec": {
   "display_name": "Python 3 (ipykernel)",
   "language": "python",
   "name": "python3"
  },
  "language_info": {
   "codemirror_mode": {
    "name": "ipython",
    "version": 3
   },
   "file_extension": ".py",
   "mimetype": "text/x-python",
   "name": "python",
   "nbconvert_exporter": "python",
   "pygments_lexer": "ipython3",
   "version": "3.9.13"
  },
  "varInspector": {
   "cols": {
    "lenName": 16,
    "lenType": 16,
    "lenVar": 40
   },
   "kernels_config": {
    "python": {
     "delete_cmd_postfix": "",
     "delete_cmd_prefix": "del ",
     "library": "var_list.py",
     "varRefreshCmd": "print(var_dic_list())"
    },
    "r": {
     "delete_cmd_postfix": ") ",
     "delete_cmd_prefix": "rm(",
     "library": "var_list.r",
     "varRefreshCmd": "cat(var_dic_list()) "
    }
   },
   "types_to_exclude": [
    "module",
    "function",
    "builtin_function_or_method",
    "instance",
    "_Feature"
   ],
   "window_display": false
  }
 },
 "nbformat": 4,
 "nbformat_minor": 5
}
