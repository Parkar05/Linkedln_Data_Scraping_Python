{
 "cells": [
  {
   "cell_type": "markdown",
   "id": "ce61413e",
   "metadata": {},
   "source": [
    "## Not ending while loop"
   ]
  },
  {
   "cell_type": "code",
   "execution_count": null,
   "id": "ebe9c102",
   "metadata": {},
   "outputs": [],
   "source": [
    "import pyautogui as pag \n",
    "import random\n",
    "import time\n",
    "\n",
    "while True :\n",
    "    x = random.randint(600,700)\n",
    "    y = random.randint(200,600)\n",
    "    pag.moveTo(x,y,0.5)\n",
    "    time.sleep(3)"
   ]
  },
  {
   "cell_type": "markdown",
   "id": "ab2d52de",
   "metadata": {},
   "source": [
    "## Random movement of mouse "
   ]
  },
  {
   "cell_type": "code",
   "execution_count": 18,
   "id": "f43db300",
   "metadata": {},
   "outputs": [],
   "source": [
    "import pyautogui as pag\n",
    "import random\n",
    "import time\n",
    "\n",
    "# Set the duration in seconds\n",
    "duration = 3\n",
    "\n",
    "# Get the start time\n",
    "start_time = time.time()\n",
    "\n",
    "# Main loop\n",
    "while time.time() - start_time < duration:\n",
    "    x = random.randint(600, 700)\n",
    "    y = random.randint(200, 600)\n",
    "    pag.moveTo(x, y, duration=0.5)"
   ]
  },
  {
   "cell_type": "markdown",
   "id": "08ad02a3",
   "metadata": {},
   "source": [
    "## Random movement of mouse and scroliing\n"
   ]
  },
  {
   "cell_type": "code",
   "execution_count": 17,
   "id": "26c4dc67",
   "metadata": {},
   "outputs": [],
   "source": [
    "import pyautogui as pag\n",
    "import random\n",
    "import time\n",
    "\n",
    "# Set the duration in seconds\n",
    "duration = 5\n",
    "\n",
    "# Get the start time\n",
    "start_time = time.time()\n",
    "\n",
    "# Main loop\n",
    "while time.time() - start_time < duration:\n",
    "    x = random.randint(600, 700)\n",
    "    y = random.randint(200, 600)\n",
    "    \n",
    "    # Move the mouse\n",
    "    pag.moveTo(x, y, duration=0.5)\n",
    "    \n",
    "    # Scroll randomly (change the scroll amount as needed)\n",
    "    scroll_amount = random.randint(-1000,1000)\n",
    "    pag.scroll(scroll_amount)\n",
    "\n"
   ]
  },
  {
   "cell_type": "code",
   "execution_count": null,
   "id": "d19c91eb",
   "metadata": {},
   "outputs": [],
   "source": []
  }
 ],
 "metadata": {
  "kernelspec": {
   "display_name": "Python 3 (ipykernel)",
   "language": "python",
   "name": "python3"
  },
  "language_info": {
   "codemirror_mode": {
    "name": "ipython",
    "version": 3
   },
   "file_extension": ".py",
   "mimetype": "text/x-python",
   "name": "python",
   "nbconvert_exporter": "python",
   "pygments_lexer": "ipython3",
   "version": "3.9.13"
  },
  "varInspector": {
   "cols": {
    "lenName": 16,
    "lenType": 16,
    "lenVar": 40
   },
   "kernels_config": {
    "python": {
     "delete_cmd_postfix": "",
     "delete_cmd_prefix": "del ",
     "library": "var_list.py",
     "varRefreshCmd": "print(var_dic_list())"
    },
    "r": {
     "delete_cmd_postfix": ") ",
     "delete_cmd_prefix": "rm(",
     "library": "var_list.r",
     "varRefreshCmd": "cat(var_dic_list()) "
    }
   },
   "types_to_exclude": [
    "module",
    "function",
    "builtin_function_or_method",
    "instance",
    "_Feature"
   ],
   "window_display": false
  }
 },
 "nbformat": 4,
 "nbformat_minor": 5
}
